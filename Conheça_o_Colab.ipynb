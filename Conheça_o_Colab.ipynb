{
  "cells": [
    {
      "cell_type": "code",
      "source": [
        "# Maria Eduarda - Gerenciamento de Usuários\n",
        "# Login/Logout utilizando matriz\n",
        "\n",
        "class SistemaUsuarios:\n",
        "    def __init__(self):\n",
        "        self.usuarios = []  # Matriz para login/logout\n",
        "        self.usuario_logado = []  # Pilha para usuário logado\n",
        "\n",
        "    def cadastrar_usuario(self, nome, email, senha):\n",
        "        self.usuarios.append([nome, email, senha])\n",
        "        print(f\"Usuário {nome} cadastrado com sucesso!\")\n",
        "\n",
        "    def login(self, email, senha):\n",
        "        for usuario in self.usuarios:\n",
        "            if usuario[1] == email and usuario[2] == senha:\n",
        "                self.usuario_logado.append(usuario)\n",
        "                print(f\"Usuário {usuario[0]} logado com sucesso!\")\n",
        "                return True\n",
        "        print(\"Login falhou. Verifique suas credenciais.\")\n",
        "        return False\n",
        "\n",
        "    def logout(self):\n",
        "        if self.usuario_logado:\n",
        "            usuario = self.usuario_logado.pop()\n",
        "            print(f\"Usuário {usuario[0]} deslogado com sucesso!\")\n",
        "        else:\n",
        "            print(\"Nenhum usuário logado.\")\n",
        "\n",
        "# Teste individual\n",
        "if __name__ == \"__main__\":\n",
        "    sistema = SistemaUsuarios()\n",
        "    sistema.cadastrar_usuario(\"Carlos\", \"carlos@email.com\", \"1234\")\n",
        "    sistema.login(\"carlos@email.com\", \"1234\")\n",
        "    sistema.logout()\n"
      ],
      "metadata": {
        "id": "sMiukvS4J0Kt",
        "outputId": "dc5d5b28-b3c6-4d3b-b84e-019075b75e93",
        "colab": {
          "base_uri": "https://localhost:8080/"
        }
      },
      "execution_count": 2,
      "outputs": [
        {
          "output_type": "stream",
          "name": "stdout",
          "text": [
            "Usuário Carlos cadastrado com sucesso!\n",
            "Usuário Carlos logado com sucesso!\n",
            "Usuário Carlos deslogado com sucesso!\n"
          ]
        }
      ]
    }
  ],
  "metadata": {
    "colab": {
      "name": "Conheça o Colab",
      "provenance": []
    },
    "kernelspec": {
      "display_name": "Python 3",
      "name": "python3"
    }
  },
  "nbformat": 4,
  "nbformat_minor": 0
}