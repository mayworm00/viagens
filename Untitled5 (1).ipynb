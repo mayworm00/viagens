{
  "nbformat": 4,
  "nbformat_minor": 0,
  "metadata": {
    "colab": {
      "provenance": []
    },
    "kernelspec": {
      "name": "python3",
      "display_name": "Python 3"
    },
    "language_info": {
      "name": "python"
    }
  },
  "cells": [
    {
      "cell_type": "code",
      "execution_count": null,
      "metadata": {
        "colab": {
          "base_uri": "https://localhost:8080/",
          "height": 106
        },
        "id": "T3KQ1-utei-8",
        "outputId": "fe8803a0-24c9-42ba-cb54-88a287ef57e2"
      },
      "outputs": [
        {
          "output_type": "error",
          "ename": "IndentationError",
          "evalue": "expected an indented block after 'for' statement on line 17 (<ipython-input-8-804d054525ba>, line 18)",
          "traceback": [
            "\u001b[0;36m  File \u001b[0;32m\"<ipython-input-8-804d054525ba>\"\u001b[0;36m, line \u001b[0;32m18\u001b[0m\n\u001b[0;31m    elif [0] == usuario and u[1] == senha:\u001b[0m\n\u001b[0m    ^\u001b[0m\n\u001b[0;31mIndentationError\u001b[0m\u001b[0;31m:\u001b[0m expected an indented block after 'for' statement on line 17\n"
          ]
        }
      ],
      "source": []
    },
    {
      "cell_type": "code",
      "source": [
        "# Ana Clara - Sistema de Produtos e Pagamento\n",
        "# Lista de produtos e vetor de métodos de pagamento\n",
        "\n",
        "class SistemaProdutos:\n",
        "    def __init__(self):\n",
        "        self.produtos = []  # Lista de produtos\n",
        "        self.metodos_pagamento = []  # Vetor de métodos de pagamento\n",
        "\n",
        "    def adicionar_produto(self, produto):\n",
        "        self.produtos.append(produto)\n",
        "        print(f\"Produto '{produto}' adicionado à lista.\")\n",
        "\n",
        "    def listar_produtos(self):\n",
        "        print(\"Produtos disponíveis:\")\n",
        "        for produto in self.produtos:\n",
        "            print(f\"- {produto}\")\n",
        "\n",
        "    def escolher_metodo_pagamento(self, metodo):\n",
        "        self.metodos_pagamento.append(metodo)\n",
        "        print(f\"Método de pagamento '{metodo}' registrado.\")\n",
        "\n",
        "# Teste individual\n",
        "if __name__ == \"__main__\":\n",
        "    sistema = SistemaProdutos()\n",
        "    sistema.adicionar_produto(\"Passagem para Paris\")\n",
        "    sistema.adicionar_produto(\"Pacote de Hotel\")\n",
        "    sistema.listar_produtos()\n",
        "    sistema.escolher_metodo_pagamento(\"Cartão de Crédito\")\n",
        "\n"
      ],
      "metadata": {
        "colab": {
          "base_uri": "https://localhost:8080/"
        },
        "id": "4P5JjUI30m-M",
        "outputId": "48d5c018-ea2a-4936-e525-54d83da87a34"
      },
      "execution_count": 1,
      "outputs": [
        {
          "output_type": "stream",
          "name": "stdout",
          "text": [
            "Produto 'Passagem para Paris' adicionado à lista.\n",
            "Produto 'Pacote de Hotel' adicionado à lista.\n",
            "Produtos disponíveis:\n",
            "- Passagem para Paris\n",
            "- Pacote de Hotel\n",
            "Método de pagamento 'Cartão de Crédito' registrado.\n"
          ]
        }
      ]
    }
  ]
}