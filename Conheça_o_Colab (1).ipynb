{
  "cells": [
    {
      "cell_type": "code",
      "source": [
        "# Arthur - Carrinho de Compras e Finalização\n",
        "# Utilizando fila para gerenciar o carrinho\n",
        "\n",
        "class CarrinhoCompras:\n",
        "    def __init__(self):\n",
        "        self.carrinho = []  # Fila para carrinho de compras\n",
        "\n",
        "    def adicionar_ao_carrinho(self, produto):\n",
        "        self.carrinho.append(produto)\n",
        "        print(f\"Produto '{produto}' adicionado ao carrinho.\")\n",
        "\n",
        "    def finalizar_compra(self, usuario_logado):\n",
        "        if usuario_logado and self.carrinho:\n",
        "            print(f\"Compra finalizada com sucesso! Itens adquiridos: {', '.join(self.carrinho)}\")\n",
        "            self.carrinho.clear()\n",
        "        else:\n",
        "            print(\"Erro ao finalizar compra. Verifique se está logado e há itens no carrinho.\")\n",
        "\n",
        "# Teste individual\n",
        "if __name__ == \"__main__\":\n",
        "    carrinho = CarrinhoCompras()\n",
        "    carrinho.adicionar_ao_carrinho(\"Passagem para Paris\")\n",
        "    carrinho.finalizar_compra(True)  # Simulando um usuário logado"
      ],
      "metadata": {
        "colab": {
          "base_uri": "https://localhost:8080/"
        },
        "id": "9GP4k4Z24DDI",
        "outputId": "76729874-3c06-44b6-f5b8-54a850eae1e0"
      },
      "execution_count": 6,
      "outputs": [
        {
          "output_type": "stream",
          "name": "stdout",
          "text": [
            "Produto 'Passagem para Paris' adicionado ao carrinho.\n",
            "Compra finalizada com sucesso! Itens adquiridos: Passagem para Paris\n"
          ]
        }
      ]
    }
  ],
  "metadata": {
    "colab": {
      "name": "Conheça o Colab",
      "provenance": []
    },
    "kernelspec": {
      "display_name": "Python 3",
      "name": "python3"
    }
  },
  "nbformat": 4,
  "nbformat_minor": 0
}